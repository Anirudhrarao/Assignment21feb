{
 "cells": [
  {
   "cell_type": "markdown",
   "id": "3e2c3252",
   "metadata": {},
   "source": [
    "### Solution(1)"
   ]
  },
  {
   "cell_type": "markdown",
   "id": "5b3e7a9c",
   "metadata": {},
   "source": [
    "#### Q1. What is Web Scraping? Why is it Used? Give three areas where Web Scraping is used to get data."
   ]
  },
  {
   "cell_type": "markdown",
   "id": "9e312bd1",
   "metadata": {},
   "source": [
    "Web scrapping is technique used to collect content and data from the internet.\n",
    "This data is usually saved in local file so that it can be manipulated and analyzed as needed.\n",
    "Web scraping applications  are programmed to visit websites, grab the relevant pages and extract useful information. By automating this process, this can extract huge amounts of data in a very short time.\n",
    "\n",
    "Web scrapping is widely use in ecommerce, real estate, social media, marketing, research and travel tourism."
   ]
  },
  {
   "cell_type": "markdown",
   "id": "873b56c9",
   "metadata": {},
   "source": [
    "### Solution (2)"
   ]
  },
  {
   "cell_type": "markdown",
   "id": "8ce6f933",
   "metadata": {},
   "source": [
    "#### Q2. What are the different methods used for Web Scraping?"
   ]
  },
  {
   "cell_type": "markdown",
   "id": "56196c12",
   "metadata": {},
   "source": [
    "#### Manual scraping:\n",
    "1. COPY-PASTING\n",
    "#### Automated scaping:\n",
    "1.  HTML PARSING\n",
    "2.  DOM PARSING\n",
    "3.  VERTICAL AGGREGATION\n",
    "4.  XPATH\n",
    "5.  GOOGLE SHEETS\n",
    "6.  TEXT PATTERN MATCHING"
   ]
  },
  {
   "cell_type": "markdown",
   "id": "d627c64a",
   "metadata": {},
   "source": [
    "### Solution (3)"
   ]
  },
  {
   "cell_type": "markdown",
   "id": "94d81874",
   "metadata": {},
   "source": [
    "#### Q3. What is Beautiful Soup? Why is it used?"
   ]
  },
  {
   "cell_type": "markdown",
   "id": "96c2b79b",
   "metadata": {},
   "source": [
    "A BeautifulSoup is great tool for extracting data from web pages but it work with the source code of the page.\n",
    "Dynamic sites needs to be rendered as the web page that would be displayed in browser\n",
    "\n",
    "A BeautifulSoup provide simple method for navigating, searching and modifying a parse tree in HTML, XML files.\n",
    "It transforms a complex HTML document into a tree of Python objects."
   ]
  },
  {
   "cell_type": "markdown",
   "id": "88310569",
   "metadata": {},
   "source": [
    "#### Solution (4)"
   ]
  },
  {
   "cell_type": "markdown",
   "id": "eaab9031",
   "metadata": {},
   "source": [
    "#### Q4. Why is flask used in this Web Scraping project?"
   ]
  },
  {
   "cell_type": "markdown",
   "id": "5c02658f",
   "metadata": {},
   "source": [
    "Flask is a lightweight framework to build websites. We'll use this to parse our collected data and display it as HTML in a new HTML file. The requests module allows us to send http requests to the website we want to scrape."
   ]
  },
  {
   "cell_type": "markdown",
   "id": "f9653276",
   "metadata": {},
   "source": [
    "### Solution (5)"
   ]
  },
  {
   "cell_type": "markdown",
   "id": "024a6f85",
   "metadata": {},
   "source": [
    "#### Q5. Write the names of AWS services used in this project. Also, explain the use of each service."
   ]
  },
  {
   "cell_type": "markdown",
   "id": "2ba47721",
   "metadata": {},
   "source": [
    "We have two types of services in this project:\n",
    "#### Code pipeline\n",
    "* AWS CodePipeline is continous delivery service you can use to model, visualize, and automate the steps required to release your software.\n",
    "* You can quickly model and configure the different stages of a software release process.\n",
    "* CodePipeline automates the steps required to release your software changes continuously"
   ]
  },
  {
   "cell_type": "markdown",
   "id": "b65989bf",
   "metadata": {},
   "source": [
    "#### Elasticbeanstalk\n",
    "* Elastic Beanstalk is a service for deploying and scaling web applications and services. Upload your code and Elastic Beanstalk automatically handles the deployment—from capacity provisioning, load balancing, and auto scaling to application health monitoring."
   ]
  },
  {
   "cell_type": "code",
   "execution_count": null,
   "id": "eb2adf5d",
   "metadata": {},
   "outputs": [],
   "source": []
  }
 ],
 "metadata": {
  "kernelspec": {
   "display_name": "Python 3 (ipykernel)",
   "language": "python",
   "name": "python3"
  },
  "language_info": {
   "codemirror_mode": {
    "name": "ipython",
    "version": 3
   },
   "file_extension": ".py",
   "mimetype": "text/x-python",
   "name": "python",
   "nbconvert_exporter": "python",
   "pygments_lexer": "ipython3",
   "version": "3.11.1"
  }
 },
 "nbformat": 4,
 "nbformat_minor": 5
}
